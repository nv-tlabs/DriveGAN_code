{
  "nbformat": 4,
  "nbformat_minor": 0,
  "metadata": {
    "colab": {
      "name": "DriveGAN Playground.ipynb",
      "provenance": []
    },
    "kernelspec": {
      "name": "python3",
      "display_name": "Python 3"
    },
    "language_info": {
      "name": "python"
    },
    "accelerator": "GPU"
  },
  "cells": [
    {
      "cell_type": "markdown",
      "metadata": {
        "id": "0QO-0HXJ-zma"
      },
      "source": [
        "## DriveGAN Playground\n",
        "A notebook to play with the [DriveGAN](https://nv-tlabs.github.io/DriveGAN/) simulator within Colab.  \n",
        "**A GPU runtime is required in order to run the simulator.**"
      ]
    },
    {
      "cell_type": "markdown",
      "metadata": {
        "id": "6CnP4Qw1yJeA"
      },
      "source": [
        "### Setup"
      ]
    },
    {
      "cell_type": "markdown",
      "metadata": {
        "id": "Az73HoLN_g1C"
      },
      "source": [
        "Clone the official GitHub repo."
      ]
    },
    {
      "cell_type": "code",
      "metadata": {
        "id": "RMquJIHR_MoM"
      },
      "source": [
        "!git clone https://github.com/nv-tlabs/DriveGAN_code.git\n",
        "%cd DriveGAN_code"
      ],
      "execution_count": null,
      "outputs": []
    },
    {
      "cell_type": "markdown",
      "metadata": {
        "id": "duRl4SpVxO0S"
      },
      "source": [
        "Install the required dependencies. All those specified in the *requirements.txt* file are already pre-installed in the Colab environment but *simplejson*."
      ]
    },
    {
      "cell_type": "code",
      "metadata": {
        "id": "Yk_yXjbfFMPy"
      },
      "source": [
        "!pip install simplejson"
      ],
      "execution_count": null,
      "outputs": []
    },
    {
      "cell_type": "markdown",
      "metadata": {
        "id": "vHTsewMw3S9f"
      },
      "source": [
        "Install the [Ninja](https://ninja-build.org/) build system in order for the simulator to load the C++ extensions."
      ]
    },
    {
      "cell_type": "code",
      "metadata": {
        "id": "VY7EMZX53XyV"
      },
      "source": [
        "!wget https://github.com/ninja-build/ninja/releases/download/v1.8.2/ninja-linux.zip\n",
        "!sudo unzip ninja-linux.zip -d /usr/local/bin/\n",
        "!sudo update-alternatives --install /usr/bin/ninja ninja /usr/local/bin/ninja 1 --force\n",
        "!rm -f ninja-linux.zip"
      ],
      "execution_count": null,
      "outputs": []
    },
    {
      "cell_type": "markdown",
      "metadata": {
        "id": "R_Db6WuJxv6T"
      },
      "source": [
        "### Playing with the trained model"
      ]
    },
    {
      "cell_type": "markdown",
      "metadata": {
        "id": "YBwRN9woxynl"
      },
      "source": [
        "Download the dynamics engine and the VAE-GAN model checkpoints."
      ]
    },
    {
      "cell_type": "code",
      "metadata": {
        "id": "-BWDkGolzUeh"
      },
      "source": [
        "!gdown --id 1weGqehYmgotgFqGgCORa88rJ8_AC-lXr"
      ],
      "execution_count": null,
      "outputs": []
    },
    {
      "cell_type": "code",
      "metadata": {
        "id": "M3OBIhoQ0E7C"
      },
      "source": [
        "!gdown --id 19mwH8sgNDNRl9FvJitABu19HLuxmvRFm"
      ],
      "execution_count": null,
      "outputs": []
    },
    {
      "cell_type": "markdown",
      "metadata": {
        "id": "gk9lN-fQ0v9Q"
      },
      "source": [
        "Install [ngrok](https://github.com/inconshreveable/ngrok). It is an Open Source reverse proxy that creates a secure tunnel from a public endpoint to a locally running web service. This is needed to access the simulator web app UI running within this notebook."
      ]
    },
    {
      "cell_type": "code",
      "metadata": {
        "id": "80n1Gisz05La"
      },
      "source": [
        "!wget https://bin.equinox.io/c/4VmDzA7iaHb/ngrok-stable-linux-amd64.zip"
      ],
      "execution_count": null,
      "outputs": []
    },
    {
      "cell_type": "code",
      "metadata": {
        "id": "mTfjwjtT1lXv"
      },
      "source": [
        "!unzip ngrok-stable-linux-amd64.zip\n",
        "!rm ./ngrok-stable-linux-amd64.zip"
      ],
      "execution_count": null,
      "outputs": []
    },
    {
      "cell_type": "markdown",
      "metadata": {
        "id": "2p90HFQW1tMo"
      },
      "source": [
        "Create a tunnel to port 8888 (select a different port number, depending on what you will set in the cell code that starts the simulator server). Once the tunnel has been created, follow the instruction that will be sent to the output of the next cells in order to start the simulator web app and access its UI from the web browser."
      ]
    },
    {
      "cell_type": "code",
      "metadata": {
        "id": "yqN60fMK2Oup"
      },
      "source": [
        "get_ipython().system_raw('./ngrok http 8888 &')"
      ],
      "execution_count": null,
      "outputs": []
    },
    {
      "cell_type": "code",
      "metadata": {
        "id": "JM37hlgP2P8v"
      },
      "source": [
        "!curl -s http://localhost:4040/api/tunnels | python3 -c \\\n",
        "    'import sys, json; print(\"Execute the next cell and the go to the following URL: \" +json.load(sys.stdin)[\"tunnels\"][0][\"public_url\"])'"
      ],
      "execution_count": null,
      "outputs": []
    },
    {
      "cell_type": "markdown",
      "metadata": {
        "id": "99Yqo9EZ06dt"
      },
      "source": [
        "Start the simulator to play with the pre-trained model.  \n",
        "The startup would require some time (between 10 and 20 seconds) to complete. It is ready to play when the '**view @ http://localhost:8888**' message is printed to the cell output.  \n",
        "The keys to control the car are:  \n",
        "- 'w': speed up,  \n",
        "- 's': slow down,  \n",
        "- 'a': steer left,  \n",
        "- 'd': steer right  \n",
        "\n",
        "The UI provides additional buttons for changing contents.  If the simulator freezes, simply refresh the web page.  \n",
        "To stop the simulator, simply interrupt the execution of the following cell."
      ]
    },
    {
      "cell_type": "code",
      "metadata": {
        "id": "IXF0vLo705rX"
      },
      "source": [
        "!./scripts/play/server.sh ./simulator_epoch1020.pt 8888 ./vaegan_iter210000.pt"
      ],
      "execution_count": null,
      "outputs": []
    }
  ]
}